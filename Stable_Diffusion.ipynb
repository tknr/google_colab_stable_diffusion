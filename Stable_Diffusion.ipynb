{
  "nbformat": 4,
  "nbformat_minor": 0,
  "metadata": {
    "colab": {
      "name": "Stable Diffusion.ipynb",
      "provenance": [],
      "private_outputs": true,
      "authorship_tag": "ABX9TyOc8E2bya3rw8jYZ2BTAqe1",
      "include_colab_link": true
    },
    "kernelspec": {
      "name": "python3",
      "display_name": "Python 3"
    },
    "language_info": {
      "name": "python"
    },
    "accelerator": "GPU",
    "gpuClass": "standard"
  },
  "cells": [
    {
      "cell_type": "markdown",
      "metadata": {
        "id": "view-in-github",
        "colab_type": "text"
      },
      "source": [
        "<a href=\"https://colab.research.google.com/github/tknr/google_colab_stable_diffusion/blob/main/Stable_Diffusion.ipynb\" target=\"_parent\"><img src=\"https://colab.research.google.com/assets/colab-badge.svg\" alt=\"Open In Colab\"/></a>"
      ]
    },
    {
      "cell_type": "code",
      "source": [
        "#@title セットアップ { display-mode: \"form\" }\n",
        "\n",
        "# ライブラリのインストール\n",
        "!pip install diffusers==0.2.4 transformers scipy ftfy googletrans==4.0.0-rc1\n",
        "\n",
        "# アクセス・トークン設定\n",
        "Access_Token=\"********\" #@param {type:\"string\"}\n",
        "\n",
        "# パイプライン構築\n",
        "from diffusers import StableDiffusionPipeline\n",
        "pipe = StableDiffusionPipeline.from_pretrained(\"CompVis/stable-diffusion-v1-4\", use_auth_token=Access_Token)\n",
        "pipe.to(\"cuda\")"
      ],
      "metadata": {
        "id": "S46b2PpQm9HA"
      },
      "execution_count": null,
      "outputs": []
    },
    {
      "cell_type": "code",
      "source": [
        "#@title 画像生成 { display-mode: \"form\" }\n",
        "import random\n",
        "import torch\n",
        "from googletrans import Translator\n",
        "\n",
        "# 生成\n",
        "prompt = \"female japanese dj\" #@param {type:\"string\"}\n",
        "print(prompt)\n",
        "\n",
        "translate_src = 'en' #@param ['ja','en']\n",
        "\n",
        "if translate_src != 'en' :\n",
        "  translator = Translator()\n",
        "  translated = translator.translate(prompt, src=translate_src,dest='en')\n",
        "  print(translated)\n",
        "  print(translated.text)\n",
        "  prompt = translated.text\n",
        "\n",
        "out_pathes = []\n",
        "num_images = 2 #@param {type:\"slider\", min:1, max:10, step:1}\n",
        "\n",
        "\n",
        "prompts =[ prompt ] * num_images\n",
        "\n",
        "width = 512 #@param [512,256,128]\n",
        "height = 512 #@param [512,256,128] \n",
        "seed = 0 #@param {type:\"slider\", min:0, max:65535, step:1}\n",
        "num_inference_steps=50 #@param {type:\"slider\", min:1, max:50, step:1}\n",
        "\n",
        "if seed == 0:\n",
        "  seed = random.randrange(1,65535)\n",
        "  print(seed)\n",
        "\n",
        "generator = torch.Generator(\"cuda\").manual_seed(seed)\n",
        "\n",
        "result = pipe(prompts,width=width,height=height,num_inference_steps=num_inference_steps,generator=generator)\n",
        "\n",
        "print(result)\n",
        "\n",
        "images = result[\"sample\"]\n",
        "\n",
        "for index,image in enumerate(images):\n",
        "\n",
        "  # 保存\n",
        "  sentence = prompt.replace(' ','_')\n",
        "  out_path = \"%s_%dx%d_seed%d_nis%d_%d.png\" % (sentence,width,height,seed,num_inference_steps,index)\n",
        "  print(out_path)\n",
        "  image.save(out_path)\n",
        "  out_pathes.append(out_path)\n",
        "\n",
        "  # 表示\n",
        "  from IPython.display import Image,display\n",
        "  display(Image(out_path))"
      ],
      "metadata": {
        "id": "_VSQ4Px-n3vb"
      },
      "execution_count": null,
      "outputs": []
    },
    {
      "cell_type": "markdown",
      "source": [],
      "metadata": {
        "id": "bJtLj8occIDs"
      }
    },
    {
      "cell_type": "code",
      "source": [
        "#@title 画像のダウンロード(たぶんchrome only) { display-mode: \"form\" }\n",
        "from google.colab import files\n",
        "for index,out_path in enumerate(out_pathes):\n",
        "  files.download(out_path)"
      ],
      "metadata": {
        "id": "UKl1zWB5n7XK"
      },
      "execution_count": null,
      "outputs": []
    }
  ]
}